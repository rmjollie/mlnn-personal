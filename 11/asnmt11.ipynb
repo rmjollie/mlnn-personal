{
 "cells": [
  {
   "cell_type": "markdown",
   "metadata": {},
   "source": [
    "# Neural Networks image recognition - ConvNet\n",
    "\n",
    "1. Add random noise (see below on `size parameter` on [`np.random.normal`](https://numpy.org/doc/stable/reference/random/generated/numpy.random.normal.html)) to the images in training and testing. **Make sure each image gets a different noise feature added to it. Inspect by printing out several images. Note - the `size` parameter should match the data. **\n",
    "2. Compare the `accuracy` of train and val after N epochs for MLNN with and without noise. \n",
    "3. Vary the amount of noise by changing the `scale` parameter in `np.random.normal` by a factor. Use `.1, .5, 1.0, 2.0, 4.0` for the `scale` and keep track of the `accuracy` for training and validation and plot these results.\n",
    "4. Compare these results with the previous week where we used a MultiLayer Perceptron (this week we use a ConvNet). "
   ]
  },
  {
   "cell_type": "markdown",
   "metadata": {},
   "source": [
    "# Neural Networks - Image Recognition "
   ]
  },
  {
   "cell_type": "code",
   "execution_count": 63,
   "metadata": {},
   "outputs": [],
   "source": [
    "import keras\n",
    "from keras.datasets import mnist\n",
    "from keras.models import Sequential\n",
    "from keras.optimizers import RMSprop\n",
    "from keras.layers import Dense, Dropout, Flatten\n",
    "from keras.layers import Conv2D, MaxPooling2D\n",
    "from keras import backend"
   ]
  },
  {
   "cell_type": "code",
   "execution_count": 64,
   "metadata": {},
   "outputs": [],
   "source": [
    "import matplotlib.pyplot as  plt\n",
    "%matplotlib inline\n",
    "import numpy as np"
   ]
  },
  {
   "cell_type": "markdown",
   "metadata": {},
   "source": [
    "## Conv Net\n",
    "Trains a simple convnet on the MNIST dataset.\n",
    "Gets to 99.25% test accuracy after 12 epochs\n",
    "(there is still a lot of margin for parameter tuning).\n"
   ]
  },
  {
   "cell_type": "code",
   "execution_count": 101,
   "metadata": {},
   "outputs": [],
   "source": [
    "# input image dimensions\n",
    "img_rows, img_cols = 28, 28\n",
    "\n",
    "scale = [0, .1, .5, 1.0, 2.0, 4.0]\n",
    "batch_size = 128\n",
    "num_classes = 10\n",
    "epochs = 12\n",
    "\n",
    "losses = []\n",
    "acc = []"
   ]
  },
  {
   "cell_type": "code",
   "execution_count": 102,
   "metadata": {
    "scrolled": false
   },
   "outputs": [
    {
     "name": "stdout",
     "output_type": "stream",
     "text": [
      "new_train shape: (60000, 28, 28, 1)\n",
      "new_test shape: (10000, 28, 28, 1)\n",
      "Epoch 1/12\n",
      "469/469 [==============================] - 43s 85ms/step - loss: 2.2817 - accuracy: 0.1517 - val_loss: 2.2442 - val_accuracy: 0.3532\n",
      "Epoch 2/12\n",
      "469/469 [==============================] - 42s 90ms/step - loss: 2.2259 - accuracy: 0.2674 - val_loss: 2.1766 - val_accuracy: 0.5228\n",
      "Epoch 3/12\n",
      "469/469 [==============================] - 44s 94ms/step - loss: 2.1565 - accuracy: 0.3756 - val_loss: 2.0899 - val_accuracy: 0.6190\n",
      "Epoch 4/12\n",
      "469/469 [==============================] - 44s 94ms/step - loss: 2.0671 - accuracy: 0.4588 - val_loss: 1.9754 - val_accuracy: 0.6806\n",
      "Epoch 5/12\n",
      "469/469 [==============================] - 44s 93ms/step - loss: 1.9494 - accuracy: 0.5142 - val_loss: 1.8269 - val_accuracy: 0.7176\n",
      "Epoch 6/12\n",
      "469/469 [==============================] - 40s 85ms/step - loss: 1.8055 - accuracy: 0.5545 - val_loss: 1.6462 - val_accuracy: 0.7439\n",
      "Epoch 7/12\n",
      "469/469 [==============================] - 43s 91ms/step - loss: 1.6451 - accuracy: 0.5864 - val_loss: 1.4491 - val_accuracy: 0.7686\n",
      "Epoch 8/12\n",
      "469/469 [==============================] - 43s 92ms/step - loss: 1.4797 - accuracy: 0.6171 - val_loss: 1.2567 - val_accuracy: 0.7888\n",
      "Epoch 9/12\n",
      "469/469 [==============================] - 45s 96ms/step - loss: 1.3283 - accuracy: 0.6435 - val_loss: 1.0872 - val_accuracy: 0.8068\n",
      "Epoch 10/12\n",
      "469/469 [==============================] - 42s 90ms/step - loss: 1.1989 - accuracy: 0.6698 - val_loss: 0.9508 - val_accuracy: 0.8178\n",
      "Epoch 11/12\n",
      "469/469 [==============================] - 44s 94ms/step - loss: 1.1032 - accuracy: 0.6857 - val_loss: 0.8454 - val_accuracy: 0.8277\n",
      "Epoch 12/12\n",
      "469/469 [==============================] - 44s 93ms/step - loss: 1.0208 - accuracy: 0.7027 - val_loss: 0.7642 - val_accuracy: 0.8349\n",
      "Test loss: 0.764194667339325\n",
      "Test accuracy: 0.8349000215530396\n",
      "new_train shape: (60000, 28, 28, 1)\n",
      "new_test shape: (10000, 28, 28, 1)\n",
      "Epoch 1/12\n",
      "469/469 [==============================] - 46s 91ms/step - loss: 2.2888 - accuracy: 0.1427 - val_loss: 2.2531 - val_accuracy: 0.3799\n",
      "Epoch 2/12\n",
      "469/469 [==============================] - 44s 93ms/step - loss: 2.2370 - accuracy: 0.2409 - val_loss: 2.1906 - val_accuracy: 0.4914\n",
      "Epoch 3/12\n",
      "469/469 [==============================] - 41s 88ms/step - loss: 2.1754 - accuracy: 0.3308 - val_loss: 2.1136 - val_accuracy: 0.5503\n",
      "Epoch 4/12\n",
      "469/469 [==============================] - 44s 93ms/step - loss: 2.0972 - accuracy: 0.4006 - val_loss: 2.0134 - val_accuracy: 0.6175\n",
      "Epoch 5/12\n",
      "469/469 [==============================] - 43s 92ms/step - loss: 1.9968 - accuracy: 0.4581 - val_loss: 1.8843 - val_accuracy: 0.6754\n",
      "Epoch 6/12\n",
      "469/469 [==============================] - 41s 87ms/step - loss: 1.8717 - accuracy: 0.5092 - val_loss: 1.7259 - val_accuracy: 0.7175\n",
      "Epoch 7/12\n",
      "469/469 [==============================] - 44s 94ms/step - loss: 1.7273 - accuracy: 0.5480 - val_loss: 1.5458 - val_accuracy: 0.7460\n",
      "Epoch 8/12\n",
      "469/469 [==============================] - 44s 93ms/step - loss: 1.5741 - accuracy: 0.5833 - val_loss: 1.3610 - val_accuracy: 0.7645\n",
      "Epoch 9/12\n",
      "469/469 [==============================] - 41s 88ms/step - loss: 1.4274 - accuracy: 0.6124 - val_loss: 1.1893 - val_accuracy: 0.7802\n",
      "Epoch 10/12\n",
      "469/469 [==============================] - 44s 94ms/step - loss: 1.2996 - accuracy: 0.6358 - val_loss: 1.0420 - val_accuracy: 0.7968\n",
      "Epoch 11/12\n",
      "469/469 [==============================] - 43s 92ms/step - loss: 1.1887 - accuracy: 0.6600 - val_loss: 0.9226 - val_accuracy: 0.8108\n",
      "Epoch 12/12\n",
      "469/469 [==============================] - 41s 87ms/step - loss: 1.0986 - accuracy: 0.6803 - val_loss: 0.8296 - val_accuracy: 0.8202\n",
      "Test loss: 0.8295845985412598\n",
      "Test accuracy: 0.8202000260353088\n",
      "new_train shape: (60000, 28, 28, 1)\n",
      "new_test shape: (10000, 28, 28, 1)\n",
      "Epoch 1/12\n",
      "469/469 [==============================] - 46s 90ms/step - loss: 2.3075 - accuracy: 0.1119 - val_loss: 2.2786 - val_accuracy: 0.1993\n",
      "Epoch 2/12\n",
      "469/469 [==============================] - 42s 89ms/step - loss: 2.2777 - accuracy: 0.1461 - val_loss: 2.2489 - val_accuracy: 0.3132\n",
      "Epoch 3/12\n",
      "469/469 [==============================] - 38s 81ms/step - loss: 2.2515 - accuracy: 0.1877 - val_loss: 2.2185 - val_accuracy: 0.3982\n",
      "Epoch 4/12\n",
      "469/469 [==============================] - 40s 85ms/step - loss: 2.2228 - accuracy: 0.2219 - val_loss: 2.1822 - val_accuracy: 0.4769\n",
      "Epoch 5/12\n",
      "469/469 [==============================] - 42s 90ms/step - loss: 2.1882 - accuracy: 0.2569 - val_loss: 2.1377 - val_accuracy: 0.5305\n",
      "Epoch 6/12\n",
      "469/469 [==============================] - 43s 91ms/step - loss: 2.1465 - accuracy: 0.2963 - val_loss: 2.0844 - val_accuracy: 0.5700\n",
      "Epoch 7/12\n",
      "469/469 [==============================] - 39s 83ms/step - loss: 2.0950 - accuracy: 0.3327 - val_loss: 2.0215 - val_accuracy: 0.6086\n",
      "Epoch 8/12\n",
      "469/469 [==============================] - 43s 91ms/step - loss: 2.0371 - accuracy: 0.3684 - val_loss: 1.9470 - val_accuracy: 0.6353\n",
      "Epoch 9/12\n",
      "469/469 [==============================] - 42s 89ms/step - loss: 1.9668 - accuracy: 0.4081 - val_loss: 1.8598 - val_accuracy: 0.6648\n",
      "Epoch 10/12\n",
      "469/469 [==============================] - 48s 102ms/step - loss: 1.8857 - accuracy: 0.4433 - val_loss: 1.7608 - val_accuracy: 0.6890\n",
      "Epoch 11/12\n",
      "469/469 [==============================] - 44s 95ms/step - loss: 1.7999 - accuracy: 0.4765 - val_loss: 1.6523 - val_accuracy: 0.7119\n",
      "Epoch 12/12\n",
      "469/469 [==============================] - 44s 93ms/step - loss: 1.7019 - accuracy: 0.5086 - val_loss: 1.5383 - val_accuracy: 0.7259\n",
      "Test loss: 1.538321852684021\n",
      "Test accuracy: 0.7258999943733215\n",
      "new_train shape: (60000, 28, 28, 1)\n",
      "new_test shape: (10000, 28, 28, 1)\n",
      "Epoch 1/12\n",
      "469/469 [==============================] - 48s 96ms/step - loss: 2.3319 - accuracy: 0.1089 - val_loss: 2.2892 - val_accuracy: 0.1364\n",
      "Epoch 2/12\n",
      "469/469 [==============================] - 44s 94ms/step - loss: 2.3043 - accuracy: 0.1195 - val_loss: 2.2759 - val_accuracy: 0.1804\n",
      "Epoch 3/12\n",
      "469/469 [==============================] - 43s 92ms/step - loss: 2.2904 - accuracy: 0.1304 - val_loss: 2.2651 - val_accuracy: 0.2198\n",
      "Epoch 4/12\n",
      "469/469 [==============================] - 42s 89ms/step - loss: 2.2775 - accuracy: 0.1447 - val_loss: 2.2524 - val_accuracy: 0.2534\n",
      "Epoch 5/12\n",
      "469/469 [==============================] - 44s 94ms/step - loss: 2.2674 - accuracy: 0.1539 - val_loss: 2.2368 - val_accuracy: 0.2917\n",
      "Epoch 6/12\n",
      "469/469 [==============================] - 43s 91ms/step - loss: 2.2545 - accuracy: 0.1674 - val_loss: 2.2188 - val_accuracy: 0.3276\n",
      "Epoch 7/12\n",
      "469/469 [==============================] - 42s 90ms/step - loss: 2.2401 - accuracy: 0.1798 - val_loss: 2.1970 - val_accuracy: 0.3617\n",
      "Epoch 8/12\n",
      "469/469 [==============================] - 44s 93ms/step - loss: 2.2223 - accuracy: 0.1938 - val_loss: 2.1718 - val_accuracy: 0.3965\n",
      "Epoch 9/12\n",
      "469/469 [==============================] - 42s 90ms/step - loss: 2.2038 - accuracy: 0.2098 - val_loss: 2.1427 - val_accuracy: 0.4258\n",
      "Epoch 10/12\n",
      "469/469 [==============================] - 43s 91ms/step - loss: 2.1800 - accuracy: 0.2283 - val_loss: 2.1104 - val_accuracy: 0.4621\n",
      "Epoch 11/12\n",
      "469/469 [==============================] - 45s 95ms/step - loss: 2.1537 - accuracy: 0.2468 - val_loss: 2.0738 - val_accuracy: 0.4836\n",
      "Epoch 12/12\n",
      "469/469 [==============================] - 42s 89ms/step - loss: 2.1226 - accuracy: 0.2634 - val_loss: 2.0332 - val_accuracy: 0.5044\n",
      "Test loss: 2.0331578254699707\n",
      "Test accuracy: 0.5044000148773193\n",
      "new_train shape: (60000, 28, 28, 1)\n",
      "new_test shape: (10000, 28, 28, 1)\n",
      "Epoch 1/12\n",
      "469/469 [==============================] - 48s 96ms/step - loss: 2.4078 - accuracy: 0.1008 - val_loss: 2.3010 - val_accuracy: 0.1186\n",
      "Epoch 2/12\n",
      "469/469 [==============================] - 44s 94ms/step - loss: 2.3337 - accuracy: 0.1058 - val_loss: 2.2960 - val_accuracy: 0.1243\n",
      "Epoch 3/12\n",
      "469/469 [==============================] - 44s 94ms/step - loss: 2.3116 - accuracy: 0.1146 - val_loss: 2.2947 - val_accuracy: 0.1331\n",
      "Epoch 4/12\n",
      "469/469 [==============================] - 45s 96ms/step - loss: 2.3034 - accuracy: 0.1145 - val_loss: 2.2937 - val_accuracy: 0.1388\n",
      "Epoch 5/12\n"
     ]
    },
    {
     "name": "stdout",
     "output_type": "stream",
     "text": [
      "469/469 [==============================] - 42s 89ms/step - loss: 2.3019 - accuracy: 0.1160 - val_loss: 2.2934 - val_accuracy: 0.1442\n",
      "Epoch 6/12\n",
      "469/469 [==============================] - 43s 91ms/step - loss: 2.2966 - accuracy: 0.1209 - val_loss: 2.2908 - val_accuracy: 0.1530\n",
      "Epoch 7/12\n",
      "469/469 [==============================] - 44s 94ms/step - loss: 2.2956 - accuracy: 0.1215 - val_loss: 2.2885 - val_accuracy: 0.1619\n",
      "Epoch 8/12\n",
      "469/469 [==============================] - 41s 87ms/step - loss: 2.2932 - accuracy: 0.1249 - val_loss: 2.2849 - val_accuracy: 0.1724\n",
      "Epoch 9/12\n",
      "469/469 [==============================] - 43s 92ms/step - loss: 2.2913 - accuracy: 0.1280 - val_loss: 2.2813 - val_accuracy: 0.1808\n",
      "Epoch 10/12\n",
      "469/469 [==============================] - 44s 94ms/step - loss: 2.2877 - accuracy: 0.1319 - val_loss: 2.2766 - val_accuracy: 0.1882\n",
      "Epoch 11/12\n",
      "469/469 [==============================] - 40s 86ms/step - loss: 2.2835 - accuracy: 0.1389 - val_loss: 2.2707 - val_accuracy: 0.1991\n",
      "Epoch 12/12\n",
      "469/469 [==============================] - 44s 93ms/step - loss: 2.2785 - accuracy: 0.1432 - val_loss: 2.2632 - val_accuracy: 0.2124\n",
      "Test loss: 2.2632203102111816\n",
      "Test accuracy: 0.21240000426769257\n",
      "new_train shape: (60000, 28, 28, 1)\n",
      "new_test shape: (10000, 28, 28, 1)\n",
      "Epoch 1/12\n",
      "469/469 [==============================] - 46s 91ms/step - loss: 2.5830 - accuracy: 0.0997 - val_loss: 2.3157 - val_accuracy: 0.1033\n",
      "Epoch 2/12\n",
      "469/469 [==============================] - 41s 87ms/step - loss: 2.3737 - accuracy: 0.1032 - val_loss: 2.3021 - val_accuracy: 0.1015\n",
      "Epoch 3/12\n",
      "469/469 [==============================] - 43s 93ms/step - loss: 2.3282 - accuracy: 0.1044 - val_loss: 2.3014 - val_accuracy: 0.1045\n",
      "Epoch 4/12\n",
      "469/469 [==============================] - 42s 89ms/step - loss: 2.3144 - accuracy: 0.1040 - val_loss: 2.3019 - val_accuracy: 0.1030\n",
      "Epoch 5/12\n",
      "469/469 [==============================] - 41s 88ms/step - loss: 2.3095 - accuracy: 0.1021 - val_loss: 2.3021 - val_accuracy: 0.1069\n",
      "Epoch 6/12\n",
      "469/469 [==============================] - 43s 92ms/step - loss: 2.3066 - accuracy: 0.1050 - val_loss: 2.3023 - val_accuracy: 0.1100\n",
      "Epoch 7/12\n",
      "469/469 [==============================] - 41s 87ms/step - loss: 2.3058 - accuracy: 0.1042 - val_loss: 2.3023 - val_accuracy: 0.1117\n",
      "Epoch 8/12\n",
      "469/469 [==============================] - 42s 90ms/step - loss: 2.3051 - accuracy: 0.1068 - val_loss: 2.3024 - val_accuracy: 0.1127\n",
      "Epoch 9/12\n",
      "469/469 [==============================] - 44s 93ms/step - loss: 2.3044 - accuracy: 0.1079 - val_loss: 2.3024 - val_accuracy: 0.1097\n",
      "Epoch 10/12\n",
      "469/469 [==============================] - 40s 86ms/step - loss: 2.3042 - accuracy: 0.1059 - val_loss: 2.3024 - val_accuracy: 0.1120\n",
      "Epoch 11/12\n",
      "469/469 [==============================] - 45s 97ms/step - loss: 2.3035 - accuracy: 0.1064 - val_loss: 2.3024 - val_accuracy: 0.1117\n",
      "Epoch 12/12\n",
      "469/469 [==============================] - 44s 93ms/step - loss: 2.3032 - accuracy: 0.1078 - val_loss: 2.3024 - val_accuracy: 0.1117\n",
      "Test loss: 2.302367687225342\n",
      "Test accuracy: 0.11169999837875366\n"
     ]
    }
   ],
   "source": [
    "for s in scale:\n",
    "    # the data, shuffled and split between train and test sets\n",
    "    (x_train, y_train), (x_test, y_test) = mnist.load_data()\n",
    "\n",
    "    # convert class vectors to binary class matrices\n",
    "    y_train = keras.utils.to_categorical(y_train, num_classes)\n",
    "    y_test = keras.utils.to_categorical(y_test, num_classes)\n",
    "\n",
    "    model = Sequential()\n",
    "\n",
    "    if backend.image_data_format() == 'channels_first':\n",
    "        x_train = x_train.reshape(x_train.shape[0], 1, img_rows, img_cols)\n",
    "        x_test = x_test.reshape(x_test.shape[0], 1, img_rows, img_cols)\n",
    "        input_shape = (1, img_rows, img_cols)\n",
    "    else:\n",
    "        x_train = x_train.reshape(x_train.shape[0], img_rows, img_cols, 1)\n",
    "        x_test = x_test.reshape(x_test.shape[0], img_rows, img_cols, 1)\n",
    "        input_shape = (img_rows, img_cols, 1)\n",
    "\n",
    "    x_train = x_train.astype('float32')\n",
    "    x_test = x_test.astype('float32')\n",
    "    x_train /= 255\n",
    "    x_test /= 255\n",
    "\n",
    "    new_train = x_train + np.random.normal(0, s, size=(60000, 28, 28, 1))\n",
    "    new_test = x_test + np.random.normal(0, s, size=(10000, 28, 28, 1))\n",
    "    print('new_train shape:', new_train.shape)\n",
    "    print('new_test shape:', new_test.shape)\n",
    "\n",
    "    model.add(Conv2D(32, kernel_size=(3, 3),\n",
    "                     activation='relu',\n",
    "                     input_shape=input_shape))\n",
    "    model.add(Conv2D(64, (3, 3), activation='relu'))\n",
    "    model.add(MaxPooling2D(pool_size=(2, 2)))\n",
    "    model.add(Dropout(0.25))\n",
    "    model.add(Flatten())\n",
    "    model.add(Dense(128, activation='relu'))\n",
    "    model.add(Dropout(0.5))\n",
    "    model.add(Dense(num_classes, activation='softmax'))\n",
    "\n",
    "    model.compile(loss=keras.losses.categorical_crossentropy,\n",
    "                  optimizer=keras.optimizers.Adadelta(),\n",
    "                  metrics=['accuracy'])\n",
    "\n",
    "    model.fit(new_train, y_train,\n",
    "              batch_size=batch_size,\n",
    "              epochs=epochs,\n",
    "              verbose=1,\n",
    "              validation_data=(new_test, y_test))\n",
    "    score = model.evaluate(new_test, y_test, verbose=0)\n",
    "    losses.append(score[0])\n",
    "    acc.append(score[1])\n",
    "    print('Test loss:', score[0])\n",
    "    print('Test accuracy:', score[1])"
   ]
  },
  {
   "cell_type": "code",
   "execution_count": 110,
   "metadata": {},
   "outputs": [],
   "source": [
    "losses_MLP = [0.0719, 0.1039, 0.1362, 0.1539, 0.2294, 0.8322]\n",
    "acc_MLP = [0.9815, 0.9801, 0.9781, 0.9752, 0.9561, 0.6791]"
   ]
  },
  {
   "cell_type": "code",
   "execution_count": 111,
   "metadata": {},
   "outputs": [
    {
     "data": {
      "image/png": "[encoded data removed]",
      "text/plain": [
       "<Figure size 640x480 with 1 Axes>"
      ]
     },
     "metadata": {},
     "output_type": "display_data"
    }
   ],
   "source": [
    "plt.figure()\n",
    "plt.plot(scale, losses, label=\"ConvNet\")\n",
    "plt.plot(scale, losses_MLP, label=\"MuitLayer Perception\")\n",
    "plt.xlabel('Noisiness')\n",
    "plt.ylabel('Losses')\n",
    "plt.legend()\n",
    "plt.show()"
   ]
  },
  {
   "cell_type": "code",
   "execution_count": 112,
   "metadata": {},
   "outputs": [
    {
     "data": {
      "image/png": "[encoded data removed]",
      "text/plain": [
       "<Figure size 640x480 with 1 Axes>"
      ]
     },
     "metadata": {},
     "output_type": "display_data"
    }
   ],
   "source": [
    "plt.figure()\n",
    "plt.plot(scale, acc, label=\"ConvNet\")\n",
    "plt.plot(scale, acc_MLP, label=\"MuitLayer Perception\")\n",
    "plt.xlabel('Noisiness')\n",
    "plt.ylabel('Accuracy')\n",
    "plt.legend()\n",
    "plt.show()"
   ]
  },
  {
   "cell_type": "markdown",
   "metadata": {},
   "source": [
    "#### The number of epochs used for this assignment (ConvNet) is smaller than last week's assignment using MultiLayer Perception - 12 epochs for ConvNet compared to 20 for MultiLayer Perception, but even so the accuracy is much higher and the losses lower for MultiLayer Percenption within 12 epochs as noise increases. With no noise at all, the MultiLayer Perception at 12 epochs had 98% accuracy and less than 0.1 in losses where the ConvNet with no noise had an accuracy at 83% and 0.7 in losses."
   ]
  }
 ],
 "metadata": {
  "kernelspec": {
   "display_name": "Python 3 (ipykernel)",
   "language": "python",
   "name": "python3"
  },
  "language_info": {
   "codemirror_mode": {
    "name": "ipython",
    "version": 3
   },
   "file_extension": ".py",
   "mimetype": "text/x-python",
   "name": "python",
   "nbconvert_exporter": "python",
   "pygments_lexer": "ipython3",
   "version": "3.9.13"
  }
 },
 "nbformat": 4,
 "nbformat_minor": 2
}
